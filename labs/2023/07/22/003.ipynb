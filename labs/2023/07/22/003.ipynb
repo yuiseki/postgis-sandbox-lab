{
 "cells": [
  {
   "cell_type": "code",
   "execution_count": 1,
   "metadata": {},
   "outputs": [
    {
     "name": "stdout",
     "output_type": "stream",
     "text": [
      "Collecting psycopg2\n",
      "  Downloading psycopg2-2.9.7.tar.gz (383 kB)\n",
      "\u001b[2K     \u001b[90m━━━━━━━━━━━━━━━━━━━━━━━━━━━━━━━━━━━━━\u001b[0m \u001b[32m383.5/383.5 kB\u001b[0m \u001b[31m338.2 kB/s\u001b[0m eta \u001b[36m0:00:00\u001b[0ma \u001b[36m0:00:01\u001b[0m\n",
      "\u001b[?25h  Preparing metadata (setup.py) ... \u001b[?25ldone\n",
      "\u001b[?25hBuilding wheels for collected packages: psycopg2\n",
      "  Building wheel for psycopg2 (setup.py) ... \u001b[?25ldone\n",
      "\u001b[?25h  Created wheel for psycopg2: filename=psycopg2-2.9.7-cp311-cp311-linux_x86_64.whl size=168892 sha256=04c1afbd49a2fa677475426436148b50d9335a54b5eababe1402dfeb8b528ea0\n",
      "  Stored in directory: /home/jovyan/.cache/pip/wheels/ca/a2/1f/9f85470e2065e7a4089baa6c47cfa57a2f8f8e78e07390c5b4\n",
      "Successfully built psycopg2\n",
      "Installing collected packages: psycopg2\n",
      "Successfully installed psycopg2-2.9.7\n"
     ]
    }
   ],
   "source": [
    "!pip install psycopg2"
   ]
  },
  {
   "cell_type": "code",
   "execution_count": 2,
   "metadata": {},
   "outputs": [
    {
     "name": "stdout",
     "output_type": "stream",
     "text": [
      "table_name: flood_areas_akita_2023_07_18, column_name: gridcode, data_type: bigint/int8, nullable: YES\n",
      "table_name: flood_areas_akita_2023_07_18, column_name: flood_depth, data_type: text/text, nullable: YES\n",
      "table_name: flood_areas_akita_2023_07_18, column_name: geometry, data_type: USER-DEFINED/geometry, nullable: YES\n",
      "table_name: flood_areas_akita_2023_07_19, column_name: geometry, data_type: USER-DEFINED/geometry, nullable: YES\n",
      "table_name: hospitals_akita_2023_07_18, column_name: id, data_type: bigint/int8, nullable: YES\n",
      "table_name: hospitals_akita_2023_07_18, column_name: name, data_type: character varying/varchar, nullable: YES\n",
      "table_name: hospitals_akita_2023_07_18, column_name: name_en, data_type: character varying/varchar, nullable: YES\n",
      "table_name: hospitals_akita_2023_07_18, column_name: geom, data_type: USER-DEFINED/geometry, nullable: YES\n",
      "table_name: parks, column_name: id, data_type: bigint/int8, nullable: YES\n",
      "table_name: parks, column_name: name, data_type: character varying/varchar, nullable: YES\n",
      "table_name: parks, column_name: name_en, data_type: character varying/varchar, nullable: YES\n",
      "table_name: parks, column_name: geom, data_type: USER-DEFINED/geometry, nullable: YES\n",
      "table_name: parks_akita_2023_07_18, column_name: id, data_type: bigint/int8, nullable: YES\n",
      "table_name: parks_akita_2023_07_18, column_name: name, data_type: character varying/varchar, nullable: YES\n",
      "table_name: parks_akita_2023_07_18, column_name: name_en, data_type: character varying/varchar, nullable: YES\n",
      "table_name: parks_akita_2023_07_18, column_name: geom, data_type: USER-DEFINED/geometry, nullable: YES\n",
      "table_name: schools_akita_2023_07_19, column_name: id, data_type: bigint/int8, nullable: YES\n",
      "table_name: schools_akita_2023_07_19, column_name: name, data_type: character varying/varchar, nullable: YES\n",
      "table_name: schools_akita_2023_07_19, column_name: name_en, data_type: character varying/varchar, nullable: YES\n",
      "table_name: schools_akita_2023_07_19, column_name: geom, data_type: USER-DEFINED/geometry, nullable: YES\n"
     ]
    }
   ],
   "source": [
    "import psycopg2\n",
    "\n",
    "# データベース接続情報\n",
    "host = 'postgis'\n",
    "port = '5432'\n",
    "user = 'postgres'\n",
    "password = 'postgres'\n",
    "database = 'sandbox'\n",
    "\n",
    "# PostGISへの接続\n",
    "connection = psycopg2.connect(\n",
    "    host=host,\n",
    "    port=port,\n",
    "    user=user,\n",
    "    password=password,\n",
    "    database=database\n",
    ")\n",
    "\n",
    "# クエリの実行\n",
    "cursor = connection.cursor()\n",
    "\n",
    "# getTableAndColumnsName\n",
    "schema = \"public\"\n",
    "query = f\"\"\"\n",
    "SELECT\n",
    "  t.table_name,\n",
    "  c.*\n",
    "FROM\n",
    "  information_schema.tables t\n",
    "    JOIN information_schema.columns c\n",
    "      ON t.table_name = c.table_name\n",
    "WHERE\n",
    "  t.table_schema = '{schema}'\n",
    "    AND c.table_schema = '{schema}'\n",
    "ORDER BY\n",
    "  t.table_name,\n",
    "  c.ordinal_position;\n",
    "\"\"\"\n",
    "\n",
    "# クエリの実行と結果の取得\n",
    "cursor.execute(query)\n",
    "results = cursor.fetchall()\n",
    "\n",
    "# 結果の表示\n",
    "table_info = []\n",
    "for row in results:\n",
    "    table_name = row[3]\n",
    "    if table_name == \"geography_columns\":\n",
    "        continue\n",
    "    if table_name == \"geometry_columns\":\n",
    "        continue\n",
    "    if table_name == \"spatial_ref_sys\":\n",
    "        continue\n",
    "    column_name = row[4]\n",
    "    nullable = row[7]\n",
    "    data_type = row[8]\n",
    "    data_type_sub = row[28]\n",
    "    table_info_row = f\"table_name: {table_name}, column_name: {column_name}, data_type: {data_type}/{data_type_sub}, nullable: {nullable}\"\n",
    "    table_info.append(table_info_row)\n",
    "\n",
    "# コネクションのクローズ\n",
    "cursor.close()\n",
    "connection.close()\n",
    "\n",
    "print(\"\\n\".join(table_info))"
   ]
  },
  {
   "cell_type": "code",
   "execution_count": 3,
   "metadata": {},
   "outputs": [
    {
     "name": "stdout",
     "output_type": "stream",
     "text": [
      "51\n"
     ]
    }
   ],
   "source": [
    "import os\n",
    "\n",
    "OPENAI_API_KEY = os.environ.get('OPENAI_API_KEY')\n",
    "print(len(OPENAI_API_KEY))\n"
   ]
  },
  {
   "cell_type": "code",
   "execution_count": 7,
   "metadata": {},
   "outputs": [
    {
     "name": "stdout",
     "output_type": "stream",
     "text": [
      "Requirement already satisfied: langchain in /opt/conda/lib/python3.11/site-packages (0.0.261)\n",
      "Collecting openai\n",
      "  Obtaining dependency information for openai from https://files.pythonhosted.org/packages/67/78/7588a047e458cb8075a4089d721d7af5e143ff85a2388d4a28c530be0494/openai-0.27.8-py3-none-any.whl.metadata\n",
      "  Downloading openai-0.27.8-py3-none-any.whl.metadata (13 kB)\n",
      "Requirement already satisfied: PyYAML>=5.3 in /opt/conda/lib/python3.11/site-packages (from langchain) (6.0)\n",
      "Requirement already satisfied: SQLAlchemy<3,>=1.4 in /opt/conda/lib/python3.11/site-packages (from langchain) (2.0.19)\n",
      "Requirement already satisfied: aiohttp<4.0.0,>=3.8.3 in /opt/conda/lib/python3.11/site-packages (from langchain) (3.8.4)\n",
      "Requirement already satisfied: dataclasses-json<0.6.0,>=0.5.7 in /opt/conda/lib/python3.11/site-packages (from langchain) (0.5.14)\n",
      "Requirement already satisfied: langsmith<0.1.0,>=0.0.11 in /opt/conda/lib/python3.11/site-packages (from langchain) (0.0.21)\n",
      "Requirement already satisfied: numexpr<3.0.0,>=2.8.4 in /opt/conda/lib/python3.11/site-packages (from langchain) (2.8.4)\n",
      "Requirement already satisfied: numpy<2,>=1 in /opt/conda/lib/python3.11/site-packages (from langchain) (1.24.4)\n",
      "Requirement already satisfied: openapi-schema-pydantic<2.0,>=1.2 in /opt/conda/lib/python3.11/site-packages (from langchain) (1.2.4)\n",
      "Requirement already satisfied: pydantic<2,>=1 in /opt/conda/lib/python3.11/site-packages (from langchain) (1.10.12)\n",
      "Requirement already satisfied: requests<3,>=2 in /opt/conda/lib/python3.11/site-packages (from langchain) (2.31.0)\n",
      "Requirement already satisfied: tenacity<9.0.0,>=8.1.0 in /opt/conda/lib/python3.11/site-packages (from langchain) (8.2.2)\n",
      "Requirement already satisfied: tqdm in /opt/conda/lib/python3.11/site-packages (from openai) (4.65.0)\n",
      "Requirement already satisfied: attrs>=17.3.0 in /opt/conda/lib/python3.11/site-packages (from aiohttp<4.0.0,>=3.8.3->langchain) (23.1.0)\n",
      "Requirement already satisfied: charset-normalizer<4.0,>=2.0 in /opt/conda/lib/python3.11/site-packages (from aiohttp<4.0.0,>=3.8.3->langchain) (3.2.0)\n",
      "Requirement already satisfied: multidict<7.0,>=4.5 in /opt/conda/lib/python3.11/site-packages (from aiohttp<4.0.0,>=3.8.3->langchain) (6.0.4)\n",
      "Requirement already satisfied: async-timeout<5.0,>=4.0.0a3 in /opt/conda/lib/python3.11/site-packages (from aiohttp<4.0.0,>=3.8.3->langchain) (4.0.2)\n",
      "Requirement already satisfied: yarl<2.0,>=1.0 in /opt/conda/lib/python3.11/site-packages (from aiohttp<4.0.0,>=3.8.3->langchain) (1.9.2)\n",
      "Requirement already satisfied: frozenlist>=1.1.1 in /opt/conda/lib/python3.11/site-packages (from aiohttp<4.0.0,>=3.8.3->langchain) (1.4.0)\n",
      "Requirement already satisfied: aiosignal>=1.1.2 in /opt/conda/lib/python3.11/site-packages (from aiohttp<4.0.0,>=3.8.3->langchain) (1.3.1)\n",
      "Requirement already satisfied: marshmallow<4.0.0,>=3.18.0 in /opt/conda/lib/python3.11/site-packages (from dataclasses-json<0.6.0,>=0.5.7->langchain) (3.20.1)\n",
      "Requirement already satisfied: typing-inspect<1,>=0.4.0 in /opt/conda/lib/python3.11/site-packages (from dataclasses-json<0.6.0,>=0.5.7->langchain) (0.9.0)\n",
      "Requirement already satisfied: typing-extensions>=4.2.0 in /opt/conda/lib/python3.11/site-packages (from pydantic<2,>=1->langchain) (4.7.1)\n",
      "Requirement already satisfied: idna<4,>=2.5 in /opt/conda/lib/python3.11/site-packages (from requests<3,>=2->langchain) (3.4)\n",
      "Requirement already satisfied: urllib3<3,>=1.21.1 in /opt/conda/lib/python3.11/site-packages (from requests<3,>=2->langchain) (2.0.3)\n",
      "Requirement already satisfied: certifi>=2017.4.17 in /opt/conda/lib/python3.11/site-packages (from requests<3,>=2->langchain) (2023.5.7)\n",
      "Requirement already satisfied: greenlet!=0.4.17 in /opt/conda/lib/python3.11/site-packages (from SQLAlchemy<3,>=1.4->langchain) (2.0.2)\n",
      "Requirement already satisfied: packaging>=17.0 in /opt/conda/lib/python3.11/site-packages (from marshmallow<4.0.0,>=3.18.0->dataclasses-json<0.6.0,>=0.5.7->langchain) (23.1)\n",
      "Requirement already satisfied: mypy-extensions>=0.3.0 in /opt/conda/lib/python3.11/site-packages (from typing-inspect<1,>=0.4.0->dataclasses-json<0.6.0,>=0.5.7->langchain) (1.0.0)\n",
      "Downloading openai-0.27.8-py3-none-any.whl (73 kB)\n",
      "\u001b[2K   \u001b[90m━━━━━━━━━━━━━━━━━━━━━━━━━━━━━━━━━━━━━━━━\u001b[0m \u001b[32m73.6/73.6 kB\u001b[0m \u001b[31m1.0 MB/s\u001b[0m eta \u001b[36m0:00:00\u001b[0ma \u001b[36m0:00:01\u001b[0m\n",
      "\u001b[?25hInstalling collected packages: openai\n",
      "Successfully installed openai-0.27.8\n"
     ]
    }
   ],
   "source": [
    "!pip install langchain openai"
   ]
  },
  {
   "cell_type": "code",
   "execution_count": 8,
   "metadata": {},
   "outputs": [
    {
     "name": "stdout",
     "output_type": "stream",
     "text": [
      "Given an input question, first create a syntactically correct PostGIS SQL query to run, then look at the results of the query and return the answer.\n",
      "Use the following format:\n",
      "\n",
      "Question: \"Question here\"\n",
      "SQLQuery: \"SQL Query to run\"\n",
      "\n",
      "Only use the following tables:\n",
      "\n",
      "table_name: flood_areas_akita_2023_07_18, column_name: gridcode, data_type: bigint/int8, nullable: YES\n",
      "table_name: flood_areas_akita_2023_07_18, column_name: flood_depth, data_type: text/text, nullable: YES\n",
      "table_name: flood_areas_akita_2023_07_18, column_name: geometry, data_type: USER-DEFINED/geometry, nullable: YES\n",
      "table_name: flood_areas_akita_2023_07_19, column_name: geometry, data_type: USER-DEFINED/geometry, nullable: YES\n",
      "table_name: hospitals_akita_2023_07_18, column_name: id, data_type: bigint/int8, nullable: YES\n",
      "table_name: hospitals_akita_2023_07_18, column_name: name, data_type: character varying/varchar, nullable: YES\n",
      "table_name: hospitals_akita_2023_07_18, column_name: name_en, data_type: character varying/varchar, nullable: YES\n",
      "table_name: hospitals_akita_2023_07_18, column_name: geom, data_type: USER-DEFINED/geometry, nullable: YES\n",
      "table_name: parks, column_name: id, data_type: bigint/int8, nullable: YES\n",
      "table_name: parks, column_name: name, data_type: character varying/varchar, nullable: YES\n",
      "table_name: parks, column_name: name_en, data_type: character varying/varchar, nullable: YES\n",
      "table_name: parks, column_name: geom, data_type: USER-DEFINED/geometry, nullable: YES\n",
      "table_name: parks_akita_2023_07_18, column_name: id, data_type: bigint/int8, nullable: YES\n",
      "table_name: parks_akita_2023_07_18, column_name: name, data_type: character varying/varchar, nullable: YES\n",
      "table_name: parks_akita_2023_07_18, column_name: name_en, data_type: character varying/varchar, nullable: YES\n",
      "table_name: parks_akita_2023_07_18, column_name: geom, data_type: USER-DEFINED/geometry, nullable: YES\n",
      "table_name: schools_akita_2023_07_19, column_name: id, data_type: bigint/int8, nullable: YES\n",
      "table_name: schools_akita_2023_07_19, column_name: name, data_type: character varying/varchar, nullable: YES\n",
      "table_name: schools_akita_2023_07_19, column_name: name_en, data_type: character varying/varchar, nullable: YES\n",
      "table_name: schools_akita_2023_07_19, column_name: geom, data_type: USER-DEFINED/geometry, nullable: YES\n",
      "\n",
      "Examples:\n",
      "Question: 秋田県の浸水エリア内にある公園を教えて\n",
      "SQLQuery: SELECT p.id, p.name, p.name_en, p.geom FROM parks_akita_2023_07_18 AS p WHERE EXISTS (SELECT 1 FROM flood_areas_akita_2023_07_18 AS f WHERE ST_Intersects(p.geom, f.geometry));\n",
      "Note: do not forget `SELECT 1` in subquery\n",
      "\n",
      "Question: 秋田県の浸水エリア内にある学校を教えて\n",
      "SELECT s.id, s.name, s.name_en, s.geom FROM schools_akita_2023_07_19 AS s WHERE EXISTS (SELECT 1 FROM flood_areas_akita_2023_07_18 AS f WHERE ST_Intersects(s.geom, f.geometry));\n"
     ]
    }
   ],
   "source": [
    "from langchain import OpenAI, PromptTemplate\n",
    "\n",
    "llm = OpenAI(model_name=\"text-davinci-003\", temperature=0)\n",
    "\n",
    "_DEFAULT_TEMPLATE = \"\"\"Given an input question, first create a syntactically correct {dialect} query to run, then look at the results of the query and return the answer.\n",
    "Use the following format:\n",
    "\n",
    "Question: \"Question here\"\n",
    "SQLQuery: \"SQL Query to run\"\n",
    "\n",
    "Only use the following tables:\n",
    "\n",
    "{table_info}\n",
    "\n",
    "Examples:\n",
    "Question: 秋田県の浸水エリア内にある公園を教えて\n",
    "SQLQuery: SELECT p.id, p.name, p.name_en, p.geom FROM parks_akita_2023_07_18 AS p WHERE EXISTS (SELECT 1 FROM flood_areas_akita_2023_07_18 AS f WHERE ST_Intersects(p.geom, f.geometry));\n",
    "Note: do not forget `SELECT 1` in subquery\n",
    "\n",
    "Question: {input}\"\"\"\n",
    "\n",
    "prompt_template = PromptTemplate(\n",
    "    input_variables=[\"input\", \"table_info\", \"dialect\"], template=_DEFAULT_TEMPLATE\n",
    ")\n",
    "\n",
    "prompt = prompt_template.format(dialect=\"PostGIS SQL\", table_info=\"\\n\".join(table_info), input=\"秋田県の浸水エリア内にある学校を教えて\", )\n",
    "\n",
    "print(prompt)\n",
    "\n",
    "sql_query = llm(prompt).replace('SQLQuery: ', '').split(\"\\n\")[1]\n",
    "print(sql_query)\n"
   ]
  },
  {
   "cell_type": "code",
   "execution_count": 9,
   "metadata": {},
   "outputs": [
    {
     "name": "stdout",
     "output_type": "stream",
     "text": [
      "結果: [(387752594, '秋田市立城東中学校', '', '0103000020E6100000010000000F00000096F37B51B184614061600C9BB7DB4340EC8909C5B184614084FC2257A0DB43407E97080AB2846140BCA24A8391DB4340C06F8D19B2846140C35785178EDB434025D9D946B2846140636EADE584DB4340905E1E7CB284614010B8095284DB43400C42D4D8B98461405C4F19A485DB43406B47718EBA84614039036DBC85DB4340A670F37CBC8461404A9C700A86DB434049D57613BC846140F2D82A1C9CDB4340141ED901BC846140DED7929F9EDB434058D647F1BB84614001D64FA4A0DB4340E8D8E66BBB84614053020759BBDB434069633612B2846140D1292389B9DB434096F37B51B184614061600C9BB7DB4340'), (387752600, '秋田市立東小学校', '', '0103000020E61000000100000008000000B3F96EA97984614050262488A9DB434038B5D8927A8461403E4162BB7BDB4340FF1AB5677B84614086C54DB27ADB43408A3E1F658484614026E5EE737CDB43405A2DB0C784846140B4E1557B7DDB434090B9D7EE83846140FC3B365DAADB43409C22765C83846140C6C61748ABDB4340B3F96EA97984614050262488A9DB4340')]\n"
     ]
    }
   ],
   "source": [
    "# PostGISへの接続\n",
    "connection = psycopg2.connect(\n",
    "    host=host,\n",
    "    port=port,\n",
    "    user=user,\n",
    "    password=password,\n",
    "    database=database\n",
    ")\n",
    "\n",
    "# クエリの実行\n",
    "cursor = connection.cursor()\n",
    "\n",
    "# クエリの実行と結果の取得\n",
    "cursor.execute(sql_query)\n",
    "results = cursor.fetchall()\n",
    "\n",
    "# 結果の表示\n",
    "print(\"結果:\", results)\n",
    "\n",
    "# コネクションのクローズ\n",
    "cursor.close()\n",
    "connection.close()"
   ]
  }
 ],
 "metadata": {
  "kernelspec": {
   "display_name": "Python 3 (ipykernel)",
   "language": "python",
   "name": "python3"
  },
  "language_info": {
   "codemirror_mode": {
    "name": "ipython",
    "version": 3
   },
   "file_extension": ".py",
   "mimetype": "text/x-python",
   "name": "python",
   "nbconvert_exporter": "python",
   "pygments_lexer": "ipython3",
   "version": "3.11.4"
  },
  "orig_nbformat": 4
 },
 "nbformat": 4,
 "nbformat_minor": 2
}
