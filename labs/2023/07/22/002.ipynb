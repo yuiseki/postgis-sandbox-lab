{
 "cells": [
  {
   "cell_type": "code",
   "execution_count": 2,
   "metadata": {},
   "outputs": [
    {
     "name": "stdout",
     "output_type": "stream",
     "text": [
      "Requirement already satisfied: psycopg2 in /opt/conda/lib/python3.11/site-packages (2.9.6)\n"
     ]
    }
   ],
   "source": [
    "!pip install psycopg2"
   ]
  },
  {
   "cell_type": "code",
   "execution_count": 3,
   "metadata": {},
   "outputs": [
    {
     "name": "stdout",
     "output_type": "stream",
     "text": [
      "table_name: flood_areas_akita_2023_07_18, column_name: gridcode, data_type: bigint/int8, nullable: YES\n",
      "table_name: flood_areas_akita_2023_07_18, column_name: flood_depth, data_type: text/text, nullable: YES\n",
      "table_name: flood_areas_akita_2023_07_18, column_name: geometry, data_type: USER-DEFINED/geometry, nullable: YES\n",
      "table_name: flood_areas_akita_2023_07_19, column_name: geometry, data_type: USER-DEFINED/geometry, nullable: YES\n",
      "table_name: hospitals_akita_2023_07_18, column_name: id, data_type: bigint/int8, nullable: YES\n",
      "table_name: hospitals_akita_2023_07_18, column_name: name, data_type: character varying/varchar, nullable: YES\n",
      "table_name: hospitals_akita_2023_07_18, column_name: name_en, data_type: character varying/varchar, nullable: YES\n",
      "table_name: hospitals_akita_2023_07_18, column_name: geom, data_type: USER-DEFINED/geometry, nullable: YES\n",
      "table_name: parks, column_name: id, data_type: bigint/int8, nullable: YES\n",
      "table_name: parks, column_name: name, data_type: character varying/varchar, nullable: YES\n",
      "table_name: parks, column_name: name_en, data_type: character varying/varchar, nullable: YES\n",
      "table_name: parks, column_name: geom, data_type: USER-DEFINED/geometry, nullable: YES\n",
      "table_name: parks_akita_2023_07_18, column_name: id, data_type: bigint/int8, nullable: YES\n",
      "table_name: parks_akita_2023_07_18, column_name: name, data_type: character varying/varchar, nullable: YES\n",
      "table_name: parks_akita_2023_07_18, column_name: name_en, data_type: character varying/varchar, nullable: YES\n",
      "table_name: parks_akita_2023_07_18, column_name: geom, data_type: USER-DEFINED/geometry, nullable: YES\n",
      "table_name: schools_akita_2023_07_19, column_name: id, data_type: bigint/int8, nullable: YES\n",
      "table_name: schools_akita_2023_07_19, column_name: name, data_type: character varying/varchar, nullable: YES\n",
      "table_name: schools_akita_2023_07_19, column_name: name_en, data_type: character varying/varchar, nullable: YES\n",
      "table_name: schools_akita_2023_07_19, column_name: geom, data_type: USER-DEFINED/geometry, nullable: YES\n"
     ]
    }
   ],
   "source": [
    "import psycopg2\n",
    "\n",
    "# データベース接続情報\n",
    "host = 'postgis'\n",
    "port = '5432'\n",
    "user = 'postgres'\n",
    "password = 'postgres'\n",
    "database = 'sandbox'\n",
    "\n",
    "# PostGISへの接続\n",
    "connection = psycopg2.connect(\n",
    "    host=host,\n",
    "    port=port,\n",
    "    user=user,\n",
    "    password=password,\n",
    "    database=database\n",
    ")\n",
    "\n",
    "# クエリの実行\n",
    "cursor = connection.cursor()\n",
    "\n",
    "# getTableAndColumnsName\n",
    "schema = \"public\"\n",
    "query = f\"\"\"\n",
    "SELECT\n",
    "  t.table_name,\n",
    "  c.*\n",
    "FROM\n",
    "  information_schema.tables t\n",
    "    JOIN information_schema.columns c\n",
    "      ON t.table_name = c.table_name\n",
    "WHERE\n",
    "  t.table_schema = '{schema}'\n",
    "    AND c.table_schema = '{schema}'\n",
    "ORDER BY\n",
    "  t.table_name,\n",
    "  c.ordinal_position;\n",
    "\"\"\"\n",
    "\n",
    "# クエリの実行と結果の取得\n",
    "cursor.execute(query)\n",
    "results = cursor.fetchall()\n",
    "\n",
    "# 結果の表示\n",
    "table_info = []\n",
    "for row in results:\n",
    "    table_name = row[3]\n",
    "    if table_name == \"geography_columns\":\n",
    "        continue\n",
    "    if table_name == \"geometry_columns\":\n",
    "        continue\n",
    "    if table_name == \"spatial_ref_sys\":\n",
    "        continue\n",
    "    column_name = row[4]\n",
    "    nullable = row[7]\n",
    "    data_type = row[8]\n",
    "    data_type_sub = row[28]\n",
    "    table_info_row = f\"table_name: {table_name}, column_name: {column_name}, data_type: {data_type}/{data_type_sub}, nullable: {nullable}\"\n",
    "    table_info.append(table_info_row)\n",
    "\n",
    "# コネクションのクローズ\n",
    "cursor.close()\n",
    "connection.close()\n",
    "\n",
    "print(\"\\n\".join(table_info))"
   ]
  },
  {
   "cell_type": "code",
   "execution_count": 4,
   "metadata": {},
   "outputs": [
    {
     "name": "stdout",
     "output_type": "stream",
     "text": [
      "51\n"
     ]
    }
   ],
   "source": [
    "import os\n",
    "\n",
    "OPENAI_API_KEY = os.environ.get('OPENAI_API_KEY')\n",
    "print(len(OPENAI_API_KEY))\n"
   ]
  },
  {
   "cell_type": "code",
   "execution_count": 5,
   "metadata": {},
   "outputs": [
    {
     "name": "stdout",
     "output_type": "stream",
     "text": [
      "Given an input question, first create a syntactically correct PostGIS SQL query to run, then look at the results of the query and return the answer.\n",
      "Use the following format:\n",
      "\n",
      "Question: \"Question here\"\n",
      "SQLQuery: \"SQL Query to run\"\n",
      "\n",
      "Only use the following tables:\n",
      "\n",
      "table_name: flood_areas_akita_2023_07_18, column_name: gridcode, data_type: bigint/int8, nullable: YES\n",
      "table_name: flood_areas_akita_2023_07_18, column_name: flood_depth, data_type: text/text, nullable: YES\n",
      "table_name: flood_areas_akita_2023_07_18, column_name: geometry, data_type: USER-DEFINED/geometry, nullable: YES\n",
      "table_name: flood_areas_akita_2023_07_19, column_name: geometry, data_type: USER-DEFINED/geometry, nullable: YES\n",
      "table_name: hospitals_akita_2023_07_18, column_name: id, data_type: bigint/int8, nullable: YES\n",
      "table_name: hospitals_akita_2023_07_18, column_name: name, data_type: character varying/varchar, nullable: YES\n",
      "table_name: hospitals_akita_2023_07_18, column_name: name_en, data_type: character varying/varchar, nullable: YES\n",
      "table_name: hospitals_akita_2023_07_18, column_name: geom, data_type: USER-DEFINED/geometry, nullable: YES\n",
      "table_name: parks, column_name: id, data_type: bigint/int8, nullable: YES\n",
      "table_name: parks, column_name: name, data_type: character varying/varchar, nullable: YES\n",
      "table_name: parks, column_name: name_en, data_type: character varying/varchar, nullable: YES\n",
      "table_name: parks, column_name: geom, data_type: USER-DEFINED/geometry, nullable: YES\n",
      "table_name: parks_akita_2023_07_18, column_name: id, data_type: bigint/int8, nullable: YES\n",
      "table_name: parks_akita_2023_07_18, column_name: name, data_type: character varying/varchar, nullable: YES\n",
      "table_name: parks_akita_2023_07_18, column_name: name_en, data_type: character varying/varchar, nullable: YES\n",
      "table_name: parks_akita_2023_07_18, column_name: geom, data_type: USER-DEFINED/geometry, nullable: YES\n",
      "table_name: schools_akita_2023_07_19, column_name: id, data_type: bigint/int8, nullable: YES\n",
      "table_name: schools_akita_2023_07_19, column_name: name, data_type: character varying/varchar, nullable: YES\n",
      "table_name: schools_akita_2023_07_19, column_name: name_en, data_type: character varying/varchar, nullable: YES\n",
      "table_name: schools_akita_2023_07_19, column_name: geom, data_type: USER-DEFINED/geometry, nullable: YES\n",
      "\n",
      "Question: 秋田県で一番広い公園の名前は？\n",
      "\n",
      "SELECT name FROM parks_akita_2023_07_18 ORDER BY ST_Area(geom) DESC LIMIT 1;\n"
     ]
    }
   ],
   "source": [
    "from langchain import OpenAI, PromptTemplate\n",
    "\n",
    "llm = OpenAI(model_name=\"text-davinci-003\", temperature=0)\n",
    "\n",
    "_DEFAULT_TEMPLATE = \"\"\"Given an input question, first create a syntactically correct {dialect} query to run, then look at the results of the query and return the answer.\n",
    "Use the following format:\n",
    "\n",
    "Question: \"Question here\"\n",
    "SQLQuery: \"SQL Query to run\"\n",
    "\n",
    "Only use the following tables:\n",
    "\n",
    "{table_info}\n",
    "\n",
    "Question: {input}\"\"\"\n",
    "\n",
    "prompt_template = PromptTemplate(\n",
    "    input_variables=[\"input\", \"table_info\", \"dialect\"], template=_DEFAULT_TEMPLATE\n",
    ")\n",
    "\n",
    "prompt = prompt_template.format(dialect=\"PostGIS SQL\", table_info=\"\\n\".join(table_info), input=\"秋田県で一番広い公園の名前は？\", )\n",
    "\n",
    "print(prompt)\n",
    "\n",
    "sql_query = llm(prompt).replace('SQLQuery: ', '')\n",
    "print(sql_query)\n",
    "\n"
   ]
  },
  {
   "cell_type": "code",
   "execution_count": 6,
   "metadata": {},
   "outputs": [
    {
     "name": "stdout",
     "output_type": "stream",
     "text": [
      "結果: ('新屋海浜公園',)\n"
     ]
    }
   ],
   "source": [
    "# PostGISへの接続\n",
    "connection = psycopg2.connect(\n",
    "    host=host,\n",
    "    port=port,\n",
    "    user=user,\n",
    "    password=password,\n",
    "    database=database\n",
    ")\n",
    "\n",
    "# クエリの実行\n",
    "cursor = connection.cursor()\n",
    "\n",
    "# クエリの実行と結果の取得\n",
    "cursor.execute(sql_query)\n",
    "results = cursor.fetchone()\n",
    "\n",
    "# 結果の表示\n",
    "print(\"結果:\", results)\n",
    "\n",
    "# コネクションのクローズ\n",
    "cursor.close()\n",
    "connection.close()\n"
   ]
  }
 ],
 "metadata": {
  "kernelspec": {
   "display_name": "Python 3 (ipykernel)",
   "language": "python",
   "name": "python3"
  },
  "orig_nbformat": 4
 },
 "nbformat": 4,
 "nbformat_minor": 2
}
