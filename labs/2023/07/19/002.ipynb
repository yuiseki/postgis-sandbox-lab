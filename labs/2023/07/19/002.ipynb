{
 "cells": [
  {
   "cell_type": "code",
   "execution_count": 1,
   "metadata": {},
   "outputs": [
    {
     "name": "stdout",
     "output_type": "stream",
     "text": [
      "Collecting geopandas\n",
      "  Obtaining dependency information for geopandas from https://files.pythonhosted.org/packages/cb/7b/2fb6ab376c78d2e60812ad0bf4b24889309d2aeb543f54efcd586c69907f/geopandas-0.13.2-py3-none-any.whl.metadata\n",
      "  Downloading geopandas-0.13.2-py3-none-any.whl.metadata (1.5 kB)\n",
      "Collecting fiona>=1.8.19 (from geopandas)\n",
      "  Obtaining dependency information for fiona>=1.8.19 from https://files.pythonhosted.org/packages/43/56/915f3e4c0016f5917d65f70097e1080f1f5341f3cd2d48d9738c2465fffa/Fiona-1.9.4.post1-cp311-cp311-manylinux_2_17_x86_64.manylinux2014_x86_64.whl.metadata\n",
      "  Downloading Fiona-1.9.4.post1-cp311-cp311-manylinux_2_17_x86_64.manylinux2014_x86_64.whl.metadata (49 kB)\n",
      "\u001b[2K     \u001b[90m━━━━━━━━━━━━━━━━━━━━━━━━━━━━━━━━━━━━━━━━\u001b[0m \u001b[32m49.3/49.3 kB\u001b[0m \u001b[31m1.9 MB/s\u001b[0m eta \u001b[36m0:00:00\u001b[0m\n",
      "\u001b[?25hRequirement already satisfied: packaging in /opt/conda/lib/python3.11/site-packages (from geopandas) (23.1)\n",
      "Requirement already satisfied: pandas>=1.1.0 in /opt/conda/lib/python3.11/site-packages (from geopandas) (2.0.3)\n",
      "Collecting pyproj>=3.0.1 (from geopandas)\n",
      "  Obtaining dependency information for pyproj>=3.0.1 from https://files.pythonhosted.org/packages/81/eb/3e31e15fdee9d54bdbc575b6384bd7e54f63590fcb4d5c247ad38a81eb44/pyproj-3.6.0-cp311-cp311-manylinux_2_17_x86_64.manylinux2014_x86_64.whl.metadata\n",
      "  Downloading pyproj-3.6.0-cp311-cp311-manylinux_2_17_x86_64.manylinux2014_x86_64.whl.metadata (30 kB)\n",
      "Collecting shapely>=1.7.1 (from geopandas)\n",
      "  Downloading shapely-2.0.1-cp311-cp311-manylinux_2_17_x86_64.manylinux2014_x86_64.whl (2.3 MB)\n",
      "\u001b[2K     \u001b[90m━━━━━━━━━━━━━━━━━━━━━━━━━━━━━━━━━━━━━━━━\u001b[0m \u001b[32m2.3/2.3 MB\u001b[0m \u001b[31m5.0 MB/s\u001b[0m eta \u001b[36m0:00:00\u001b[0m00:01\u001b[0m00:01\u001b[0m\n",
      "\u001b[?25hRequirement already satisfied: attrs>=19.2.0 in /opt/conda/lib/python3.11/site-packages (from fiona>=1.8.19->geopandas) (23.1.0)\n",
      "Requirement already satisfied: certifi in /opt/conda/lib/python3.11/site-packages (from fiona>=1.8.19->geopandas) (2023.5.7)\n",
      "Requirement already satisfied: click~=8.0 in /opt/conda/lib/python3.11/site-packages (from fiona>=1.8.19->geopandas) (8.1.5)\n",
      "Collecting click-plugins>=1.0 (from fiona>=1.8.19->geopandas)\n",
      "  Downloading click_plugins-1.1.1-py2.py3-none-any.whl (7.5 kB)\n",
      "Collecting cligj>=0.5 (from fiona>=1.8.19->geopandas)\n",
      "  Downloading cligj-0.7.2-py3-none-any.whl (7.1 kB)\n",
      "Requirement already satisfied: six in /opt/conda/lib/python3.11/site-packages (from fiona>=1.8.19->geopandas) (1.16.0)\n",
      "Requirement already satisfied: python-dateutil>=2.8.2 in /opt/conda/lib/python3.11/site-packages (from pandas>=1.1.0->geopandas) (2.8.2)\n",
      "Requirement already satisfied: pytz>=2020.1 in /opt/conda/lib/python3.11/site-packages (from pandas>=1.1.0->geopandas) (2023.3)\n",
      "Requirement already satisfied: tzdata>=2022.1 in /opt/conda/lib/python3.11/site-packages (from pandas>=1.1.0->geopandas) (2023.3)\n",
      "Requirement already satisfied: numpy>=1.21.0 in /opt/conda/lib/python3.11/site-packages (from pandas>=1.1.0->geopandas) (1.24.4)\n",
      "Downloading geopandas-0.13.2-py3-none-any.whl (1.1 MB)\n",
      "\u001b[2K   \u001b[90m━━━━━━━━━━━━━━━━━━━━━━━━━━━━━━━━━━━━━━━━\u001b[0m \u001b[32m1.1/1.1 MB\u001b[0m \u001b[31m6.8 MB/s\u001b[0m eta \u001b[36m0:00:00\u001b[0ma \u001b[36m0:00:01\u001b[0m\n",
      "\u001b[?25hDownloading Fiona-1.9.4.post1-cp311-cp311-manylinux_2_17_x86_64.manylinux2014_x86_64.whl (16.4 MB)\n",
      "\u001b[2K   \u001b[90m━━━━━━━━━━━━━━━━━━━━━━━━━━━━━━━━━━━━━━━━\u001b[0m \u001b[32m16.4/16.4 MB\u001b[0m \u001b[31m4.2 MB/s\u001b[0m eta \u001b[36m0:00:00\u001b[0m00:01\u001b[0m00:01\u001b[0m\n",
      "\u001b[?25hDownloading pyproj-3.6.0-cp311-cp311-manylinux_2_17_x86_64.manylinux2014_x86_64.whl (8.0 MB)\n",
      "\u001b[2K   \u001b[90m━━━━━━━━━━━━━━━━━━━━━━━━━━━━━━━━━━━━━━━━\u001b[0m \u001b[32m8.0/8.0 MB\u001b[0m \u001b[31m5.4 MB/s\u001b[0m eta \u001b[36m0:00:00\u001b[0m00:01\u001b[0m00:01\u001b[0m\n",
      "\u001b[?25hInstalling collected packages: shapely, pyproj, cligj, click-plugins, fiona, geopandas\n",
      "Successfully installed click-plugins-1.1.1 cligj-0.7.2 fiona-1.9.4.post1 geopandas-0.13.2 pyproj-3.6.0 shapely-2.0.1\n"
     ]
    }
   ],
   "source": [
    "!pip install geopandas"
   ]
  },
  {
   "cell_type": "code",
   "execution_count": 2,
   "metadata": {},
   "outputs": [
    {
     "name": "stdout",
     "output_type": "stream",
     "text": [
      "                                               geometry\n",
      "0     POLYGON ((140.28072 40.19999, 140.27856 40.199...\n",
      "1     POLYGON ((140.28379 40.19330, 140.28379 40.193...\n",
      "2     POLYGON ((140.27862 40.19381, 140.27878 40.193...\n",
      "3     POLYGON ((140.27630 40.19070, 140.27637 40.190...\n",
      "4     POLYGON ((140.27552 40.19046, 140.27554 40.190...\n",
      "...                                                 ...\n",
      "6698  POLYGON ((140.74333 40.32034, 140.74454 40.320...\n",
      "6699  POLYGON ((140.74440 40.30847, 140.74427 40.308...\n",
      "6700  POLYGON ((140.74953 40.29323, 140.74953 40.293...\n",
      "6701  POLYGON ((140.75634 40.27557, 140.75641 40.276...\n",
      "6702  POLYGON ((140.75341 40.27582, 140.75348 40.276...\n",
      "\n",
      "[6703 rows x 1 columns]\n"
     ]
    }
   ],
   "source": [
    "import geopandas as gpd\n",
    "\n",
    "# Shapefileのパス\n",
    "shapefile_path = '~/labs/2023/07/19/002/A31-12_05_GML/A31-12_05.shp'\n",
    "\n",
    "# GeoDataFrameの作成\n",
    "gdf_shapefile = gpd.read_file(shapefile_path)\n",
    "\n",
    "print(gdf_shapefile)"
   ]
  },
  {
   "cell_type": "code",
   "execution_count": 3,
   "metadata": {},
   "outputs": [
    {
     "name": "stdout",
     "output_type": "stream",
     "text": [
      "geometry    geometry\n",
      "dtype: object\n"
     ]
    }
   ],
   "source": [
    "print(gdf_shapefile.dtypes)"
   ]
  },
  {
   "cell_type": "code",
   "execution_count": 4,
   "metadata": {},
   "outputs": [
    {
     "name": "stdout",
     "output_type": "stream",
     "text": [
      "                                            geometry\n",
      "0  POLYGON ((140.28072 40.19999, 140.27856 40.199...\n",
      "1  POLYGON ((140.28379 40.19330, 140.28379 40.193...\n",
      "2  POLYGON ((140.27862 40.19381, 140.27878 40.193...\n",
      "3  POLYGON ((140.27630 40.19070, 140.27637 40.190...\n",
      "4  POLYGON ((140.27552 40.19046, 140.27554 40.190...\n"
     ]
    }
   ],
   "source": [
    "print(gdf_shapefile.head())"
   ]
  },
  {
   "cell_type": "code",
   "execution_count": 5,
   "metadata": {},
   "outputs": [
    {
     "name": "stdout",
     "output_type": "stream",
     "text": [
      "Requirement already satisfied: psycopg2 in /opt/conda/lib/python3.11/site-packages (2.9.6)\n",
      "Collecting geoalchemy2\n",
      "  Obtaining dependency information for geoalchemy2 from https://files.pythonhosted.org/packages/42/6e/0432c606c800923b407235072f8209dfa177b6486513563b41cbcc46f6c9/GeoAlchemy2-0.14.0-py3-none-any.whl.metadata\n",
      "  Downloading GeoAlchemy2-0.14.0-py3-none-any.whl.metadata (1.9 kB)\n",
      "Requirement already satisfied: SQLAlchemy>=1.4 in /opt/conda/lib/python3.11/site-packages (from geoalchemy2) (2.0.19)\n",
      "Requirement already satisfied: packaging in /opt/conda/lib/python3.11/site-packages (from geoalchemy2) (23.1)\n",
      "Requirement already satisfied: typing-extensions>=4.2.0 in /opt/conda/lib/python3.11/site-packages (from SQLAlchemy>=1.4->geoalchemy2) (4.7.1)\n",
      "Requirement already satisfied: greenlet!=0.4.17 in /opt/conda/lib/python3.11/site-packages (from SQLAlchemy>=1.4->geoalchemy2) (2.0.2)\n",
      "Downloading GeoAlchemy2-0.14.0-py3-none-any.whl (54 kB)\n",
      "\u001b[2K   \u001b[90m━━━━━━━━━━━━━━━━━━━━━━━━━━━━━━━━━━━━━━━━\u001b[0m \u001b[32m54.0/54.0 kB\u001b[0m \u001b[31m2.9 MB/s\u001b[0m eta \u001b[36m0:00:00\u001b[0m\n",
      "\u001b[?25hInstalling collected packages: geoalchemy2\n",
      "Successfully installed geoalchemy2-0.14.0\n"
     ]
    }
   ],
   "source": [
    "!pip install psycopg2 geoalchemy2"
   ]
  },
  {
   "cell_type": "code",
   "execution_count": 6,
   "metadata": {},
   "outputs": [],
   "source": [
    "from sqlalchemy import create_engine\n",
    "\n",
    "# PostgreSQLの情報\n",
    "host = 'postgis'\n",
    "port = '5432'\n",
    "user = 'postgres'\n",
    "password = 'postgres'\n",
    "database = 'sandbox'\n",
    "\n",
    "# GeoDataFrameをPostGISに保存するためのエンジンを作成\n",
    "engine = create_engine(f'postgresql://{user}:{password}@{host}:{port}/{database}')\n",
    "\n",
    "# GeoDataFrameをPostGISに保存\n",
    "table_name = 'flood_areas_akita_2023_07_19'\n",
    "gdf_shapefile.to_postgis(table_name, engine, if_exists='replace')"
   ]
  },
  {
   "cell_type": "code",
   "execution_count": 7,
   "metadata": {},
   "outputs": [
    {
     "name": "stdout",
     "output_type": "stream",
     "text": [
      "                                            geometry\n",
      "0  POLYGON ((140.28072 40.19999, 140.27856 40.199...\n",
      "1  POLYGON ((140.28379 40.19330, 140.28379 40.193...\n",
      "2  POLYGON ((140.27862 40.19381, 140.27878 40.193...\n",
      "3  POLYGON ((140.27630 40.19070, 140.27637 40.190...\n",
      "4  POLYGON ((140.27552 40.19046, 140.27554 40.190...\n"
     ]
    }
   ],
   "source": [
    "# 結果を確認\n",
    "\n",
    "import geopandas as gpd\n",
    "\n",
    "# テーブルの内容を取得\n",
    "table_name = 'flood_areas_akita_2023_07_19'\n",
    "query = f\"SELECT * FROM {table_name};\"\n",
    "df = gpd.read_postgis(query, engine, geom_col='geometry')\n",
    "\n",
    "# 内容の表示\n",
    "print(df.head())"
   ]
  }
 ],
 "metadata": {
  "kernelspec": {
   "display_name": "Python 3 (ipykernel)",
   "language": "python",
   "name": "python3"
  },
  "orig_nbformat": 4
 },
 "nbformat": 4,
 "nbformat_minor": 2
}
