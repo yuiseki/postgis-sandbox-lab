{
 "cells": [
  {
   "cell_type": "code",
   "execution_count": 7,
   "metadata": {},
   "outputs": [
    {
     "name": "stdout",
     "output_type": "stream",
     "text": [
      "浸水リスクエリア内の公園の数: 293\n"
     ]
    }
   ],
   "source": [
    "import psycopg2\n",
    "\n",
    "# データベース接続情報\n",
    "host = 'postgis'\n",
    "port = '5432'\n",
    "user = 'postgres'\n",
    "password = 'postgres'\n",
    "database = 'sandbox'\n",
    "\n",
    "# PostGISへの接続\n",
    "connection = psycopg2.connect(\n",
    "    host=host,\n",
    "    port=port,\n",
    "    user=user,\n",
    "    password=password,\n",
    "    database=database\n",
    ")\n",
    "\n",
    "# クエリの実行\n",
    "cursor = connection.cursor()\n",
    "\n",
    "# 浸水リスクエリア内に含まれる公園の数を集計するクエリ\n",
    "query = \"\"\"\n",
    "SELECT COUNT(*) FROM parks_akita_2023_07_18 AS p, flood_areas_akita_2023_07_19 AS f WHERE ST_Contains(ST_Transform(f.geometry, 4326), p.geom);\n",
    "\"\"\"\n",
    "\n",
    "# クエリの実行と結果の取得\n",
    "cursor.execute(query)\n",
    "result = cursor.fetchone()\n",
    "\n",
    "# 結果の表示\n",
    "park_count = result[0]\n",
    "print(\"浸水リスクエリア内の公園の数:\", park_count)\n",
    "\n",
    "# コネクションのクローズ\n",
    "cursor.close()\n",
    "connection.close()\n"
   ]
  },
  {
   "cell_type": "code",
   "execution_count": 8,
   "metadata": {},
   "outputs": [
    {
     "name": "stdout",
     "output_type": "stream",
     "text": [
      "浸水リスクエリア内の学校の数: 17\n"
     ]
    }
   ],
   "source": [
    "import psycopg2\n",
    "\n",
    "# データベース接続情報\n",
    "host = 'postgis'\n",
    "port = '5432'\n",
    "user = 'postgres'\n",
    "password = 'postgres'\n",
    "database = 'sandbox'\n",
    "\n",
    "# PostGISへの接続\n",
    "connection = psycopg2.connect(\n",
    "    host=host,\n",
    "    port=port,\n",
    "    user=user,\n",
    "    password=password,\n",
    "    database=database\n",
    ")\n",
    "\n",
    "# クエリの実行\n",
    "cursor = connection.cursor()\n",
    "\n",
    "# 浸水リスクエリア内に含まれる学校の数を集計するクエリ\n",
    "query = \"\"\"\n",
    "SELECT COUNT(*) FROM schools_akita_2023_07_19 AS s, flood_areas_akita_2023_07_19 AS f WHERE ST_Contains(ST_Transform(f.geometry, 4326), s.geom);\n",
    "\"\"\"\n",
    "\n",
    "# クエリの実行と結果の取得\n",
    "cursor.execute(query)\n",
    "result = cursor.fetchone()\n",
    "\n",
    "# 結果の表示\n",
    "park_count = result[0]\n",
    "print(\"浸水リスクエリア内の学校の数:\", park_count)\n",
    "\n",
    "# コネクションのクローズ\n",
    "cursor.close()\n",
    "connection.close()"
   ]
  },
  {
   "cell_type": "code",
   "execution_count": 9,
   "metadata": {},
   "outputs": [
    {
     "name": "stdout",
     "output_type": "stream",
     "text": [
      "浸水リスクエリア内の病院の数: 3\n"
     ]
    }
   ],
   "source": [
    "import psycopg2\n",
    "\n",
    "# データベース接続情報\n",
    "host = 'postgis'\n",
    "port = '5432'\n",
    "user = 'postgres'\n",
    "password = 'postgres'\n",
    "database = 'sandbox'\n",
    "\n",
    "# PostGISへの接続\n",
    "connection = psycopg2.connect(\n",
    "    host=host,\n",
    "    port=port,\n",
    "    user=user,\n",
    "    password=password,\n",
    "    database=database\n",
    ")\n",
    "\n",
    "# クエリの実行\n",
    "cursor = connection.cursor()\n",
    "\n",
    "# 浸水リスクエリア内に含まれる病院の数を集計するクエリ\n",
    "query = \"\"\"\n",
    "SELECT COUNT(*) FROM hospitals_akita_2023_07_18 AS h, flood_areas_akita_2023_07_19 AS f WHERE ST_Contains(ST_Transform(f.geometry, 4326), h.geom);\n",
    "\"\"\"\n",
    "\n",
    "# クエリの実行と結果の取得\n",
    "cursor.execute(query)\n",
    "result = cursor.fetchone()\n",
    "\n",
    "# 結果の表示\n",
    "park_count = result[0]\n",
    "print(\"浸水リスクエリア内の病院の数:\", park_count)\n",
    "\n",
    "# コネクションのクローズ\n",
    "cursor.close()\n",
    "connection.close()"
   ]
  }
 ],
 "metadata": {
  "kernelspec": {
   "display_name": "Python 3 (ipykernel)",
   "language": "python",
   "name": "python3"
  },
  "orig_nbformat": 4
 },
 "nbformat": 4,
 "nbformat_minor": 2
}
