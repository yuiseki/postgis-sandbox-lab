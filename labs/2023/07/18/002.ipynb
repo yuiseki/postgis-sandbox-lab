{
 "cells": [
  {
   "cell_type": "code",
   "execution_count": 2,
   "metadata": {},
   "outputs": [
    {
     "name": "stdout",
     "output_type": "stream",
     "text": [
      "Collecting geopandas\n",
      "  Obtaining dependency information for geopandas from https://files.pythonhosted.org/packages/cb/7b/2fb6ab376c78d2e60812ad0bf4b24889309d2aeb543f54efcd586c69907f/geopandas-0.13.2-py3-none-any.whl.metadata\n",
      "  Downloading geopandas-0.13.2-py3-none-any.whl.metadata (1.5 kB)\n",
      "Collecting fiona>=1.8.19 (from geopandas)\n",
      "  Obtaining dependency information for fiona>=1.8.19 from https://files.pythonhosted.org/packages/43/56/915f3e4c0016f5917d65f70097e1080f1f5341f3cd2d48d9738c2465fffa/Fiona-1.9.4.post1-cp311-cp311-manylinux_2_17_x86_64.manylinux2014_x86_64.whl.metadata\n",
      "  Downloading Fiona-1.9.4.post1-cp311-cp311-manylinux_2_17_x86_64.manylinux2014_x86_64.whl.metadata (49 kB)\n",
      "\u001b[2K     \u001b[90m━━━━━━━━━━━━━━━━━━━━━━━━━━━━━━━━━━━━━━━\u001b[0m \u001b[32m49.3/49.3 kB\u001b[0m \u001b[31m139.3 kB/s\u001b[0m eta \u001b[36m0:00:00\u001b[0m \u001b[36m0:00:01\u001b[0m\n",
      "\u001b[?25hRequirement already satisfied: packaging in /opt/conda/lib/python3.11/site-packages (from geopandas) (23.1)\n",
      "Requirement already satisfied: pandas>=1.1.0 in /opt/conda/lib/python3.11/site-packages (from geopandas) (2.0.3)\n",
      "Collecting pyproj>=3.0.1 (from geopandas)\n",
      "  Obtaining dependency information for pyproj>=3.0.1 from https://files.pythonhosted.org/packages/81/eb/3e31e15fdee9d54bdbc575b6384bd7e54f63590fcb4d5c247ad38a81eb44/pyproj-3.6.0-cp311-cp311-manylinux_2_17_x86_64.manylinux2014_x86_64.whl.metadata\n",
      "  Downloading pyproj-3.6.0-cp311-cp311-manylinux_2_17_x86_64.manylinux2014_x86_64.whl.metadata (30 kB)\n",
      "Collecting shapely>=1.7.1 (from geopandas)\n",
      "  Downloading shapely-2.0.1-cp311-cp311-manylinux_2_17_x86_64.manylinux2014_x86_64.whl (2.3 MB)\n",
      "\u001b[2K     \u001b[90m━━━━━━━━━━━━━━━━━━━━━━━━━━━━━━━━━━━━━━━━\u001b[0m \u001b[32m2.3/2.3 MB\u001b[0m \u001b[31m137.7 kB/s\u001b[0m eta \u001b[36m0:00:00\u001b[0m00:01\u001b[0m00:01\u001b[0m\n",
      "\u001b[?25hRequirement already satisfied: attrs>=19.2.0 in /opt/conda/lib/python3.11/site-packages (from fiona>=1.8.19->geopandas) (23.1.0)\n",
      "Requirement already satisfied: certifi in /opt/conda/lib/python3.11/site-packages (from fiona>=1.8.19->geopandas) (2023.5.7)\n",
      "Requirement already satisfied: click~=8.0 in /opt/conda/lib/python3.11/site-packages (from fiona>=1.8.19->geopandas) (8.1.5)\n",
      "Collecting click-plugins>=1.0 (from fiona>=1.8.19->geopandas)\n",
      "  Downloading click_plugins-1.1.1-py2.py3-none-any.whl (7.5 kB)\n",
      "Collecting cligj>=0.5 (from fiona>=1.8.19->geopandas)\n",
      "  Downloading cligj-0.7.2-py3-none-any.whl (7.1 kB)\n",
      "Requirement already satisfied: six in /opt/conda/lib/python3.11/site-packages (from fiona>=1.8.19->geopandas) (1.16.0)\n",
      "Requirement already satisfied: python-dateutil>=2.8.2 in /opt/conda/lib/python3.11/site-packages (from pandas>=1.1.0->geopandas) (2.8.2)\n",
      "Requirement already satisfied: pytz>=2020.1 in /opt/conda/lib/python3.11/site-packages (from pandas>=1.1.0->geopandas) (2023.3)\n",
      "Requirement already satisfied: tzdata>=2022.1 in /opt/conda/lib/python3.11/site-packages (from pandas>=1.1.0->geopandas) (2023.3)\n",
      "Requirement already satisfied: numpy>=1.21.0 in /opt/conda/lib/python3.11/site-packages (from pandas>=1.1.0->geopandas) (1.24.4)\n",
      "Downloading geopandas-0.13.2-py3-none-any.whl (1.1 MB)\n",
      "\u001b[2K   \u001b[90m━━━━━━━━━━━━━━━━━━━━━━━━━━━━━━━━━━━━━━━━\u001b[0m \u001b[32m1.1/1.1 MB\u001b[0m \u001b[31m179.2 kB/s\u001b[0m eta \u001b[36m0:00:00\u001b[0m00:01\u001b[0m00:01\u001b[0m\n",
      "\u001b[?25hDownloading Fiona-1.9.4.post1-cp311-cp311-manylinux_2_17_x86_64.manylinux2014_x86_64.whl (16.4 MB)\n",
      "\u001b[2K   \u001b[90m━━━━━━━━━━━━━━━━━━━━━━━━━━━━━━━━━━━━━━━━\u001b[0m \u001b[32m16.4/16.4 MB\u001b[0m \u001b[31m384.7 kB/s\u001b[0m eta \u001b[36m0:00:00\u001b[0m00:01\u001b[0m00:02\u001b[0m\n",
      "\u001b[?25hDownloading pyproj-3.6.0-cp311-cp311-manylinux_2_17_x86_64.manylinux2014_x86_64.whl (8.0 MB)\n",
      "\u001b[2K   \u001b[90m━━━━━━━━━━━━━━━━━━━━━━━━━━━━━━━━━━━━━━━━\u001b[0m \u001b[32m8.0/8.0 MB\u001b[0m \u001b[31m721.7 kB/s\u001b[0m eta \u001b[36m0:00:00\u001b[0m00:01\u001b[0m00:01\u001b[0m\n",
      "\u001b[?25hInstalling collected packages: shapely, pyproj, cligj, click-plugins, fiona, geopandas\n",
      "Successfully installed click-plugins-1.1.1 cligj-0.7.2 fiona-1.9.4.post1 geopandas-0.13.2 pyproj-3.6.0 shapely-2.0.1\n"
     ]
    }
   ],
   "source": [
    "!pip install geopandas"
   ]
  },
  {
   "cell_type": "code",
   "execution_count": 3,
   "metadata": {},
   "outputs": [
    {
     "name": "stdout",
     "output_type": "stream",
     "text": [
      "   gridcode         浸水深                                           geometry\n",
      "0         1      0.5m未満  MULTIPOLYGON (((140.13878 39.70421, 140.13872 ...\n",
      "1         2  0.5m以上1m未満  MULTIPOLYGON (((140.13842 39.70425, 140.13842 ...\n",
      "2         3    1m以上2m未満  MULTIPOLYGON (((140.13920 39.70564, 140.13914 ...\n",
      "3         4        2m以上  MULTIPOLYGON (((140.13453 39.70642, 140.13453 ...\n"
     ]
    }
   ],
   "source": [
    "import geopandas as gpd\n",
    "\n",
    "# Shapefileのパス\n",
    "shapefile_path = '~/labs/2023/07/18/002/Akita_City_shp/floodarea.shp'\n",
    "\n",
    "# GeoDataFrameの作成\n",
    "gdf_shapefile = gpd.read_file(shapefile_path)\n",
    "\n",
    "print(gdf_shapefile)"
   ]
  },
  {
   "cell_type": "code",
   "execution_count": 7,
   "metadata": {},
   "outputs": [
    {
     "name": "stdout",
     "output_type": "stream",
     "text": [
      "gridcode       int64\n",
      "浸水深           object\n",
      "geometry    geometry\n",
      "dtype: object\n"
     ]
    }
   ],
   "source": [
    "print(gdf_shapefile.dtypes)"
   ]
  },
  {
   "cell_type": "code",
   "execution_count": 9,
   "metadata": {},
   "outputs": [
    {
     "name": "stdout",
     "output_type": "stream",
     "text": [
      "   gridcode flood_depth                                           geometry\n",
      "0         1      0.5m未満  MULTIPOLYGON (((140.13878 39.70421, 140.13872 ...\n",
      "1         2  0.5m以上1m未満  MULTIPOLYGON (((140.13842 39.70425, 140.13842 ...\n",
      "2         3    1m以上2m未満  MULTIPOLYGON (((140.13920 39.70564, 140.13914 ...\n",
      "3         4        2m以上  MULTIPOLYGON (((140.13453 39.70642, 140.13453 ...\n"
     ]
    }
   ],
   "source": [
    "gdf_shapefile = gdf_shapefile.rename(columns={'浸水深': 'flood_depth'})\n",
    "print(gdf_shapefile.head())"
   ]
  },
  {
   "cell_type": "code",
   "execution_count": 5,
   "metadata": {},
   "outputs": [
    {
     "name": "stdout",
     "output_type": "stream",
     "text": [
      "Collecting psycopg2\n",
      "  Downloading psycopg2-2.9.6.tar.gz (383 kB)\n",
      "\u001b[2K     \u001b[90m━━━━━━━━━━━━━━━━━━━━━━━━━━━━━━━━━━━━━━━\u001b[0m \u001b[32m384.0/384.0 kB\u001b[0m \u001b[31m6.1 MB/s\u001b[0m eta \u001b[36m0:00:00\u001b[0ma \u001b[36m0:00:01\u001b[0m\n",
      "\u001b[?25h  Preparing metadata (setup.py) ... \u001b[?25ldone\n",
      "\u001b[?25hBuilding wheels for collected packages: psycopg2\n",
      "  Building wheel for psycopg2 (setup.py) ... \u001b[?25ldone\n",
      "\u001b[?25h  Created wheel for psycopg2: filename=psycopg2-2.9.6-cp311-cp311-linux_x86_64.whl size=168908 sha256=3faa64792dffe6bbdd3bc8cac4ddbfae2c3680d79456dba1ef05c9a08dbdaab9\n",
      "  Stored in directory: /home/jovyan/.cache/pip/wheels/a2/c5/3d/b8fd44767c125a321b8d6d7fbcce0181d2f2d1e34967c81365\n",
      "Successfully built psycopg2\n",
      "Installing collected packages: psycopg2\n",
      "Successfully installed psycopg2-2.9.6\n"
     ]
    }
   ],
   "source": [
    "!pip install psycopg2"
   ]
  },
  {
   "cell_type": "code",
   "execution_count": 11,
   "metadata": {},
   "outputs": [
    {
     "name": "stdout",
     "output_type": "stream",
     "text": [
      "Collecting geoalchemy2\n",
      "  Obtaining dependency information for geoalchemy2 from https://files.pythonhosted.org/packages/42/6e/0432c606c800923b407235072f8209dfa177b6486513563b41cbcc46f6c9/GeoAlchemy2-0.14.0-py3-none-any.whl.metadata\n",
      "  Downloading GeoAlchemy2-0.14.0-py3-none-any.whl.metadata (1.9 kB)\n",
      "Requirement already satisfied: SQLAlchemy>=1.4 in /opt/conda/lib/python3.11/site-packages (from geoalchemy2) (2.0.19)\n",
      "Requirement already satisfied: packaging in /opt/conda/lib/python3.11/site-packages (from geoalchemy2) (23.1)\n",
      "Requirement already satisfied: typing-extensions>=4.2.0 in /opt/conda/lib/python3.11/site-packages (from SQLAlchemy>=1.4->geoalchemy2) (4.7.1)\n",
      "Requirement already satisfied: greenlet!=0.4.17 in /opt/conda/lib/python3.11/site-packages (from SQLAlchemy>=1.4->geoalchemy2) (2.0.2)\n",
      "Downloading GeoAlchemy2-0.14.0-py3-none-any.whl (54 kB)\n",
      "\u001b[2K   \u001b[90m━━━━━━━━━━━━━━━━━━━━━━━━━━━━━━━━━━━━━━━━\u001b[0m \u001b[32m54.0/54.0 kB\u001b[0m \u001b[31m1.5 MB/s\u001b[0m eta \u001b[36m0:00:00\u001b[0mta \u001b[36m0:00:01\u001b[0m\n",
      "\u001b[?25hInstalling collected packages: geoalchemy2\n",
      "Successfully installed geoalchemy2-0.14.0\n"
     ]
    }
   ],
   "source": [
    "!pip install geoalchemy2"
   ]
  },
  {
   "cell_type": "code",
   "execution_count": 1,
   "metadata": {},
   "outputs": [],
   "source": [
    "from sqlalchemy import create_engine\n",
    "\n",
    "# PostgreSQLの情報\n",
    "host = 'postgis'\n",
    "port = '5432'\n",
    "user = 'postgres'\n",
    "password = 'postgres'\n",
    "database = 'sandbox'\n",
    "\n",
    "# GeoDataFrameをPostGISに保存するためのエンジンを作成\n",
    "engine = create_engine(f'postgresql://{user}:{password}@{host}:{port}/{database}')"
   ]
  },
  {
   "cell_type": "code",
   "execution_count": 12,
   "metadata": {},
   "outputs": [],
   "source": [
    "# GeoDataFrameをPostGISに保存\n",
    "table_name = 'flood_areas_akita_2023_07_18'\n",
    "gdf_shapefile.to_postgis(table_name, engine, if_exists='replace')"
   ]
  },
  {
   "cell_type": "code",
   "execution_count": 3,
   "metadata": {},
   "outputs": [
    {
     "name": "stdout",
     "output_type": "stream",
     "text": [
      "   gridcode flood_depth                                           geometry\n",
      "0         1      0.5m未満  MULTIPOLYGON (((140.13878 39.70421, 140.13872 ...\n",
      "1         2  0.5m以上1m未満  MULTIPOLYGON (((140.13842 39.70425, 140.13842 ...\n",
      "2         3    1m以上2m未満  MULTIPOLYGON (((140.13920 39.70564, 140.13914 ...\n",
      "3         4        2m以上  MULTIPOLYGON (((140.13453 39.70642, 140.13453 ...\n"
     ]
    }
   ],
   "source": [
    "import geopandas as gpd\n",
    "\n",
    "# テーブルの内容を取得\n",
    "table_name = 'flood_areas_akita_2023_07_18'\n",
    "query = f\"SELECT * FROM {table_name};\"\n",
    "df = gpd.read_postgis(query, engine, geom_col='geometry')\n",
    "\n",
    "# 内容の表示\n",
    "print(df.head())"
   ]
  },
  {
   "cell_type": "code",
   "execution_count": 7,
   "metadata": {},
   "outputs": [],
   "source": [
    "import psycopg2\n",
    "\n",
    "# PostgreSQLの接続情報\n",
    "host = 'postgis'\n",
    "port = '5432'\n",
    "user = 'postgres'\n",
    "password = 'postgres'\n",
    "database = 'sandbox'\n",
    "\n",
    "# テーブル名\n",
    "hospitals_table = 'hospitals_akita_2023_07_18'\n",
    "flood_areas_table = 'flood_areas_akita_2023_07_18'\n",
    "\n",
    "# PostgreSQLへの接続\n",
    "conn = psycopg2.connect(host=host, port=port, database=database, user=user, password=password)\n",
    "\n",
    "# カーソルを作成\n",
    "cursor = conn.cursor()\n",
    "\n",
    "# 浸水している病院の検索クエリ\n",
    "query = f\"\"\"\n",
    "SELECT h.id, h.name\n",
    "FROM {hospitals_table} AS h\n",
    "WHERE EXISTS (\n",
    "    SELECT 1\n",
    "    FROM {flood_areas_table} AS f\n",
    "    WHERE ST_Intersects(h.geom, f.geometry)\n",
    ");\n",
    "\"\"\"\n",
    "\n",
    "# クエリの実行\n",
    "cursor.execute(query)\n",
    "\n",
    "# 結果の表示\n",
    "for row in cursor.fetchall():\n",
    "    print(row)\n",
    "\n",
    "# カーソルと接続をクローズ\n",
    "cursor.close()\n",
    "conn.close()\n"
   ]
  }
 ],
 "metadata": {
  "kernelspec": {
   "display_name": "Python 3 (ipykernel)",
   "language": "python",
   "name": "python3"
  },
  "language_info": {
   "codemirror_mode": {
    "name": "ipython",
    "version": 3
   },
   "file_extension": ".py",
   "mimetype": "text/x-python",
   "name": "python",
   "nbconvert_exporter": "python",
   "pygments_lexer": "ipython3",
   "version": "3.11.4"
  },
  "orig_nbformat": 4
 },
 "nbformat": 4,
 "nbformat_minor": 2
}
