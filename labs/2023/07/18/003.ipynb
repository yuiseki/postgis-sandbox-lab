{
 "cells": [
  {
   "cell_type": "code",
   "execution_count": 1,
   "metadata": {},
   "outputs": [
    {
     "name": "stdout",
     "output_type": "stream",
     "text": [
      "2271\n"
     ]
    }
   ],
   "source": [
    "overpass_api_query = \"\"\"\n",
    "[out:json];\n",
    "area[name=\"秋田県\"]->.a;\n",
    "(\n",
    "  nwr[\"leisure\"=\"park\"](area.a);\n",
    ");\n",
    "out geom;\n",
    "\"\"\"\n",
    "\n",
    "import requests\n",
    "\n",
    "overpass_api_res = requests.post(\"https://overpass-api.de/api/interpreter\" , data = {\"data\": overpass_api_query})\n",
    "overpass_api_json = overpass_api_res.json()\n",
    "\n",
    "elements = []\n",
    "\n",
    "for element in overpass_api_json['elements']:\n",
    "    if 'geometry' in element:\n",
    "        elements.append(element)\n",
    "\n",
    "print(len(elements))"
   ]
  },
  {
   "cell_type": "code",
   "execution_count": 2,
   "metadata": {},
   "outputs": [
    {
     "ename": "DuplicateTable",
     "evalue": "relation \"parks_akita_2023_07_18\" already exists\n",
     "output_type": "error",
     "traceback": [
      "\u001b[0;31m---------------------------------------------------------------------------\u001b[0m",
      "\u001b[0;31mDuplicateTable\u001b[0m                            Traceback (most recent call last)",
      "Cell \u001b[0;32mIn[2], line 17\u001b[0m\n\u001b[1;32m     14\u001b[0m cursor \u001b[39m=\u001b[39m conn\u001b[39m.\u001b[39mcursor()\n\u001b[1;32m     16\u001b[0m \u001b[39m# テーブルを作成\u001b[39;00m\n\u001b[0;32m---> 17\u001b[0m cursor\u001b[39m.\u001b[39;49mexecute(\u001b[39m'\u001b[39;49m\u001b[39mCREATE TABLE parks_akita_2023_07_18 (id BIGINT, name VARCHAR, name_en VARCHAR, geom GEOMETRY(Polygon, 4326));\u001b[39;49m\u001b[39m'\u001b[39;49m)\n\u001b[1;32m     19\u001b[0m \u001b[39m# 公園データを挿入\u001b[39;00m\n\u001b[1;32m     20\u001b[0m \u001b[39mfor\u001b[39;00m element \u001b[39min\u001b[39;00m elements:\n",
      "\u001b[0;31mDuplicateTable\u001b[0m: relation \"parks_akita_2023_07_18\" already exists\n"
     ]
    }
   ],
   "source": [
    "import psycopg2\n",
    "\n",
    "# PostgreSQLの情報\n",
    "host = 'postgis'\n",
    "port = '5432'\n",
    "user = 'postgres'\n",
    "password = 'postgres'\n",
    "database = 'sandbox'\n",
    "\n",
    "# PostgreSQLに接続\n",
    "conn = psycopg2.connect(host=host, port=port, database=database, user=user, password=password)\n",
    "\n",
    "# カーソルを作成\n",
    "cursor = conn.cursor()\n",
    "\n",
    "# テーブルを作成\n",
    "cursor.execute('CREATE TABLE parks_akita_2023_07_18 (id BIGINT, name VARCHAR, name_en VARCHAR, geom GEOMETRY(Polygon, 4326));')\n",
    "\n",
    "# 公園データを挿入\n",
    "for element in elements:\n",
    "    element_id = element['id']\n",
    "    element_name = element['tags'].get('name', '').replace(\"'\", \"''\")\n",
    "    element_name_en = element['tags'].get('name:en', '').replace(\"'\", \"''\")\n",
    "\n",
    "    coordinates = element['geometry']\n",
    "\n",
    "    # Polygonではないelementはスキップする\n",
    "    if len(coordinates) < 3:\n",
    "        continue\n",
    "\n",
    "    # 座標データをPostGISの形式に変換\n",
    "    polygon = 'POLYGON(('\n",
    "    for coord in coordinates:\n",
    "        lon = coord['lon']\n",
    "        lat = coord['lat']\n",
    "        polygon += f'{lon} {lat},'\n",
    "    polygon = polygon.rstrip(',')  # 末尾のカンマを削除\n",
    "    polygon += '))'\n",
    "\n",
    "    # テーブルに挿入\n",
    "    insert_query = f\"INSERT INTO parks_akita_2023_07_18 (id, name, name_en, geom) VALUES ({element_id}, '{element_name}', '{element_name_en}', ST_SetSRID(ST_GeomFromText('{polygon}'), 4326));\"\n",
    "    print(insert_query)\n",
    "    cursor.execute(insert_query)\n",
    "\n",
    "# コミットして変更を確定\n",
    "conn.commit()\n",
    "\n",
    "# 接続を閉じる\n",
    "conn.close()"
   ]
  },
  {
   "cell_type": "code",
   "execution_count": 4,
   "metadata": {},
   "outputs": [
    {
     "name": "stdout",
     "output_type": "stream",
     "text": [
      "28\n",
      "(375813088, '拠点第一街区公園')\n",
      "(461633887, '広面高田街区公園')\n",
      "(461635009, '第一街区公園')\n",
      "(461635010, '広面谷地眼街区公園')\n",
      "(499329732, '')\n",
      "(533987511, '')\n",
      "(533987512, '')\n",
      "(533987515, '桜第二緑地')\n",
      "(542700630, '広面小沼街区公園')\n",
      "(542700631, '広面鬼頭街区公園')\n",
      "(544111395, '手形街区公園')\n",
      "(545163335, '長面第一街区公園')\n",
      "(545163488, '広面鬼頭第二街区公園')\n",
      "(545163705, '長面第二街区公園')\n",
      "(545790941, '広面近隣公園')\n",
      "(575376835, '')\n",
      "(622171944, '広面野添街区公園')\n",
      "(736862056, 'Playground')\n",
      "(737019303, '鬼頭三角公園')\n",
      "(737353424, '長面第三街区公園')\n",
      "(742630465, '')\n",
      "(775457360, '楢山明田近隣公園')\n",
      "(818747014, '手形新栄町街区公園')\n",
      "(818747023, '手形緑地')\n",
      "(844092042, '')\n",
      "(886213535, '')\n",
      "(905674647, '')\n",
      "(977464206, '横森第二児童遊園地')\n"
     ]
    }
   ],
   "source": [
    "import psycopg2\n",
    "\n",
    "# PostgreSQLの接続情報\n",
    "host = 'postgis'\n",
    "port = '5432'\n",
    "user = 'postgres'\n",
    "password = 'postgres'\n",
    "database = 'sandbox'\n",
    "\n",
    "# テーブル名\n",
    "parks_table = 'parks_akita_2023_07_18'\n",
    "flood_areas_table = 'flood_areas_akita_2023_07_18'\n",
    "\n",
    "# PostgreSQLへの接続\n",
    "conn = psycopg2.connect(host=host, port=port, database=database, user=user, password=password)\n",
    "\n",
    "# カーソルを作成\n",
    "cursor = conn.cursor()\n",
    "\n",
    "# 浸水している公園の検索クエリ\n",
    "query = f\"\"\"\n",
    "SELECT p.id, p.name\n",
    "FROM {parks_table} AS p\n",
    "WHERE EXISTS (\n",
    "    SELECT 1\n",
    "    FROM {flood_areas_table} AS f\n",
    "    WHERE ST_Intersects(p.geom, f.geometry)\n",
    ");\n",
    "\"\"\"\n",
    "\n",
    "# クエリの実行\n",
    "cursor.execute(query)\n",
    "\n",
    "# 結果の表示\n",
    "results = cursor.fetchall()\n",
    "print(len(results))\n",
    "for row in results:\n",
    "    print(row)\n",
    "\n",
    "# カーソルと接続をクローズ\n",
    "cursor.close()\n",
    "conn.close()\n"
   ]
  }
 ],
 "metadata": {
  "kernelspec": {
   "display_name": "Python 3 (ipykernel)",
   "language": "python",
   "name": "python3"
  },
  "language_info": {
   "codemirror_mode": {
    "name": "ipython",
    "version": 3
   },
   "file_extension": ".py",
   "mimetype": "text/x-python",
   "name": "python",
   "nbconvert_exporter": "python",
   "pygments_lexer": "ipython3",
   "version": "3.11.4"
  },
  "orig_nbformat": 4
 },
 "nbformat": 4,
 "nbformat_minor": 2
}
